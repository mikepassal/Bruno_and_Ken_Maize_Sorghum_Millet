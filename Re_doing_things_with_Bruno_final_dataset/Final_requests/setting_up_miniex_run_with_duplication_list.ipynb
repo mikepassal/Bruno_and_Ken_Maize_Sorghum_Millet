{
 "cells": [
  {
   "cell_type": "code",
   "execution_count": 1,
   "metadata": {},
   "outputs": [
    {
     "name": "stderr",
     "output_type": "stream",
     "text": [
      "Global seed set to 0\n",
      "/home/passala/miniconda3/envs/Single_cell_data_fix/lib/python3.9/site-packages/pytorch_lightning/utilities/warnings.py:53: LightningDeprecationWarning: pytorch_lightning.utilities.warnings.rank_zero_deprecation has been deprecated in v1.6 and will be removed in v1.8. Use the equivalent function from the pytorch_lightning.utilities.rank_zero module instead.\n",
      "  new_rank_zero_deprecation(\n",
      "/home/passala/miniconda3/envs/Single_cell_data_fix/lib/python3.9/site-packages/pytorch_lightning/utilities/warnings.py:58: LightningDeprecationWarning: The `pytorch_lightning.loggers.base.rank_zero_experiment` is deprecated in v1.7 and will be removed in v1.9. Please use `pytorch_lightning.loggers.logger.rank_zero_experiment` instead.\n",
      "  return new_rank_zero_deprecation(*args, **kwargs)\n"
     ]
    }
   ],
   "source": [
    "import pymn\n",
    "import pandas as pd\n",
    "import matplotlib.pyplot as plt\n",
    "import scanpy as sc\n",
    "import anndata as ad\n",
    "import numpy as np\n",
    "import itertools\n",
    "import scipy.stats\n",
    "import seaborn as sns\n",
    "import scgen \n",
    "sc.settings.verbosity = 3   \n",
    "sc.set_figure_params(figsize = (15,15),facecolor = 'white')"
   ]
  },
  {
   "cell_type": "code",
   "execution_count": 17,
   "metadata": {},
   "outputs": [
    {
     "data": {
      "text/html": [
       "<div>\n",
       "<style scoped>\n",
       "    .dataframe tbody tr th:only-of-type {\n",
       "        vertical-align: middle;\n",
       "    }\n",
       "\n",
       "    .dataframe tbody tr th {\n",
       "        vertical-align: top;\n",
       "    }\n",
       "\n",
       "    .dataframe thead th {\n",
       "        text-align: right;\n",
       "    }\n",
       "</style>\n",
       "<table border=\"1\" class=\"dataframe\">\n",
       "  <thead>\n",
       "    <tr style=\"text-align: right;\">\n",
       "      <th></th>\n",
       "      <th>Setaria</th>\n",
       "      <th>Replace by B</th>\n",
       "    </tr>\n",
       "    <tr>\n",
       "      <th>Triplet</th>\n",
       "      <th></th>\n",
       "      <th></th>\n",
       "    </tr>\n",
       "  </thead>\n",
       "  <tbody>\n",
       "    <tr>\n",
       "      <th>1</th>\n",
       "      <td>Sevir.3G009000</td>\n",
       "      <td>Zm00001d026665</td>\n",
       "    </tr>\n",
       "    <tr>\n",
       "      <th>2</th>\n",
       "      <td>Sevir.3G009500</td>\n",
       "      <td>Zm00001d026662</td>\n",
       "    </tr>\n",
       "    <tr>\n",
       "      <th>3</th>\n",
       "      <td>Sevir.3G010300</td>\n",
       "      <td>Zm00001d026657</td>\n",
       "    </tr>\n",
       "    <tr>\n",
       "      <th>4</th>\n",
       "      <td>Sevir.3G010800</td>\n",
       "      <td>Zm00001d026653</td>\n",
       "    </tr>\n",
       "    <tr>\n",
       "      <th>5</th>\n",
       "      <td>Sevir.3G011200</td>\n",
       "      <td>Zm00001d026652</td>\n",
       "    </tr>\n",
       "    <tr>\n",
       "      <th>...</th>\n",
       "      <td>...</td>\n",
       "      <td>...</td>\n",
       "    </tr>\n",
       "    <tr>\n",
       "      <th>5047</th>\n",
       "      <td>Sevir.8G041700</td>\n",
       "      <td>Zm00001d004857</td>\n",
       "    </tr>\n",
       "    <tr>\n",
       "      <th>5048</th>\n",
       "      <td>Sevir.8G042200</td>\n",
       "      <td>Zm00001d004856</td>\n",
       "    </tr>\n",
       "    <tr>\n",
       "      <th>5049</th>\n",
       "      <td>Sevir.8G042300</td>\n",
       "      <td>Zm00001d004855</td>\n",
       "    </tr>\n",
       "    <tr>\n",
       "      <th>5050</th>\n",
       "      <td>Sevir.8G042400</td>\n",
       "      <td>Zm00001d004851</td>\n",
       "    </tr>\n",
       "    <tr>\n",
       "      <th>5051</th>\n",
       "      <td>Sevir.8G042800</td>\n",
       "      <td>Zm00001d004848</td>\n",
       "    </tr>\n",
       "  </tbody>\n",
       "</table>\n",
       "<p>3961 rows × 2 columns</p>\n",
       "</div>"
      ],
      "text/plain": [
       "                Setaria    Replace by B\n",
       "Triplet                                \n",
       "1        Sevir.3G009000  Zm00001d026665\n",
       "2        Sevir.3G009500  Zm00001d026662\n",
       "3        Sevir.3G010300  Zm00001d026657\n",
       "4        Sevir.3G010800  Zm00001d026653\n",
       "5        Sevir.3G011200  Zm00001d026652\n",
       "...                 ...             ...\n",
       "5047     Sevir.8G041700  Zm00001d004857\n",
       "5048     Sevir.8G042200  Zm00001d004856\n",
       "5049     Sevir.8G042300  Zm00001d004855\n",
       "5050     Sevir.8G042400  Zm00001d004851\n",
       "5051     Sevir.8G042800  Zm00001d004848\n",
       "\n",
       "[3961 rows x 2 columns]"
      ]
     },
     "execution_count": 17,
     "metadata": {},
     "output_type": "execute_result"
    }
   ],
   "source": [
    "gene_list_all_species = pd.read_csv('/data/passala/Collaborator_Data/Bruno_Ken_Collab/Post_review_Dataset/duplicated_gene_set_for_miniex.csv', index_col= 0)\n",
    "gene_list_all_species\n",
    "\n",
    "sorghum_genes_alpha = gene_list_all_species[['Sorghum','Replace by A']]\n",
    "sorghum_genes_alpha = sorghum_genes_alpha.dropna()\n",
    "sorghum_genes_alpha\n",
    "\n",
    "sorghum_genes_beta = gene_list_all_species[['Sorghum','Replace by B']]\n",
    "sorghum_genes_beta = sorghum_genes_beta.dropna()\n",
    "sorghum_genes_beta\n",
    "\n",
    "setaria_genes_alpha = gene_list_all_species[['Setaria','Replace by A']]\n",
    "setaria_genes_alpha = setaria_genes_alpha.dropna()\n",
    "setaria_genes_alpha = setaria_genes_alpha.drop_duplicates(subset= 'Setaria')\n",
    "setaria_genes_alpha\n",
    "\n",
    "\n",
    "setaria_genes_beta = gene_list_all_species[['Setaria','Replace by B']]\n",
    "setaria_genes_beta = setaria_genes_beta.dropna()\n",
    "setaria_genes_beta = setaria_genes_beta.drop_duplicates(subset= 'Setaria')\n",
    "\n",
    "setaria_genes_beta\n",
    "\n",
    "\n",
    "# maize_genes = gene_list_all_species.loc[gene_list_all_species['Species'] == 'M']\n",
    "# setaria_genes = gene_list_all_species.loc[gene_list_all_species['Species'] == 'Set']\n",
    "# sorghum_genes"
   ]
  },
  {
   "cell_type": "code",
   "execution_count": null,
   "metadata": {},
   "outputs": [],
   "source": [
    "setaria_genes_alpha"
   ]
  },
  {
   "cell_type": "code",
   "execution_count": null,
   "metadata": {},
   "outputs": [],
   "source": [
    "alias_File = pd.read_csv('/data/passala/Collaborator_Data/Bruno_Ken_Collab/Mini_EX_Files/Full_clone/MINI-EX/data_zma/zma_gene_aliases.txt', sep = '\\t',)\n",
    "alias_File['symbol'] = alias_File['symbol'].fillna(alias_File['locus_name'])\n",
    "alias_File"
   ]
  },
  {
   "cell_type": "code",
   "execution_count": 3,
   "metadata": {},
   "outputs": [],
   "source": [
    "norm_data = sc.read_h5ad('/data/passala/Collaborator_Data/Bruno_Ken_Collab/Post_review_Dataset/faster_reading_full_data.h5ad')"
   ]
  },
  {
   "cell_type": "code",
   "execution_count": 4,
   "metadata": {},
   "outputs": [],
   "source": [
    "norm_data.var['Maize True Gene'] = norm_data.var.index"
   ]
  },
  {
   "cell_type": "code",
   "execution_count": 5,
   "metadata": {},
   "outputs": [
    {
     "data": {
      "text/plain": [
       "AnnData object with n_obs × n_vars = 47536 × 60708\n",
       "    var: 'Maize True Gene'"
      ]
     },
     "execution_count": 5,
     "metadata": {},
     "output_type": "execute_result"
    }
   ],
   "source": [
    "norm_data"
   ]
  },
  {
   "cell_type": "code",
   "execution_count": null,
   "metadata": {},
   "outputs": [],
   "source": [
    "norm_data_maize_genes_to_replace_alpha_sorg = norm_data[:,~norm_data.var.index.isin(sorghum_genes_alpha['Replace by A'])]"
   ]
  },
  {
   "cell_type": "code",
   "execution_count": null,
   "metadata": {},
   "outputs": [],
   "source": [
    "norm_data_maize_genes_to_replace_beta_sorg = norm_data[:,~norm_data.var.index.isin(sorghum_genes_beta['Replace by B'])]"
   ]
  },
  {
   "cell_type": "code",
   "execution_count": 18,
   "metadata": {},
   "outputs": [],
   "source": [
    "norm_data_maize_genes_to_replace_alpha_set = norm_data[:,~norm_data.var.index.isin(setaria_genes_alpha['Replace by A'])]\n",
    "norm_data_maize_genes_to_replace_beta_set = norm_data[:,~norm_data.var.index.isin(setaria_genes_beta['Replace by B'])]"
   ]
  },
  {
   "cell_type": "code",
   "execution_count": null,
   "metadata": {},
   "outputs": [],
   "source": [
    "sorghum_genes_alpha"
   ]
  },
  {
   "cell_type": "code",
   "execution_count": null,
   "metadata": {},
   "outputs": [],
   "source": [
    "modified_norm_data_alpha_sorg_names = norm_data_maize_genes_to_replace_alpha_sorg.var.merge(right = sorghum_genes_alpha, left_on = 'Maize True Gene', right_on= 'Sorghum', how = 'left')"
   ]
  },
  {
   "cell_type": "code",
   "execution_count": null,
   "metadata": {},
   "outputs": [],
   "source": [
    "modified_norm_data_beta_sorg_names = norm_data_maize_genes_to_replace_beta_sorg.var.merge(right = sorghum_genes_beta, left_on = 'Maize True Gene', right_on= 'Sorghum', how = 'left')"
   ]
  },
  {
   "cell_type": "code",
   "execution_count": 12,
   "metadata": {},
   "outputs": [
    {
     "data": {
      "text/html": [
       "<div>\n",
       "<style scoped>\n",
       "    .dataframe tbody tr th:only-of-type {\n",
       "        vertical-align: middle;\n",
       "    }\n",
       "\n",
       "    .dataframe tbody tr th {\n",
       "        vertical-align: top;\n",
       "    }\n",
       "\n",
       "    .dataframe thead th {\n",
       "        text-align: right;\n",
       "    }\n",
       "</style>\n",
       "<table border=\"1\" class=\"dataframe\">\n",
       "  <thead>\n",
       "    <tr style=\"text-align: right;\">\n",
       "      <th></th>\n",
       "      <th>Maize True Gene</th>\n",
       "    </tr>\n",
       "  </thead>\n",
       "  <tbody>\n",
       "    <tr>\n",
       "      <th>Zm00001d027230</th>\n",
       "      <td>Zm00001d027230</td>\n",
       "    </tr>\n",
       "    <tr>\n",
       "      <th>Zm00001d027231</th>\n",
       "      <td>Zm00001d027231</td>\n",
       "    </tr>\n",
       "    <tr>\n",
       "      <th>Zm00001d027236</th>\n",
       "      <td>Zm00001d027236</td>\n",
       "    </tr>\n",
       "    <tr>\n",
       "      <th>Zm00001d027239</th>\n",
       "      <td>Zm00001d027239</td>\n",
       "    </tr>\n",
       "    <tr>\n",
       "      <th>Zm00001d027240</th>\n",
       "      <td>Zm00001d027240</td>\n",
       "    </tr>\n",
       "    <tr>\n",
       "      <th>...</th>\n",
       "      <td>...</td>\n",
       "    </tr>\n",
       "    <tr>\n",
       "      <th>Sevir.J014000</th>\n",
       "      <td>Sevir.J014000</td>\n",
       "    </tr>\n",
       "    <tr>\n",
       "      <th>Sevir.J015100</th>\n",
       "      <td>Sevir.J015100</td>\n",
       "    </tr>\n",
       "    <tr>\n",
       "      <th>Sevir.J015900</th>\n",
       "      <td>Sevir.J015900</td>\n",
       "    </tr>\n",
       "    <tr>\n",
       "      <th>Sevir.J016300</th>\n",
       "      <td>Sevir.J016300</td>\n",
       "    </tr>\n",
       "    <tr>\n",
       "      <th>Sevir.J016600</th>\n",
       "      <td>Sevir.J016600</td>\n",
       "    </tr>\n",
       "  </tbody>\n",
       "</table>\n",
       "<p>56769 rows × 1 columns</p>\n",
       "</div>"
      ],
      "text/plain": [
       "               Maize True Gene\n",
       "Zm00001d027230  Zm00001d027230\n",
       "Zm00001d027231  Zm00001d027231\n",
       "Zm00001d027236  Zm00001d027236\n",
       "Zm00001d027239  Zm00001d027239\n",
       "Zm00001d027240  Zm00001d027240\n",
       "...                        ...\n",
       "Sevir.J014000    Sevir.J014000\n",
       "Sevir.J015100    Sevir.J015100\n",
       "Sevir.J015900    Sevir.J015900\n",
       "Sevir.J016300    Sevir.J016300\n",
       "Sevir.J016600    Sevir.J016600\n",
       "\n",
       "[56769 rows x 1 columns]"
      ]
     },
     "execution_count": 12,
     "metadata": {},
     "output_type": "execute_result"
    }
   ],
   "source": [
    "norm_data_maize_genes_to_replace_beta_set.var"
   ]
  },
  {
   "cell_type": "code",
   "execution_count": 13,
   "metadata": {},
   "outputs": [
    {
     "data": {
      "text/html": [
       "<div>\n",
       "<style scoped>\n",
       "    .dataframe tbody tr th:only-of-type {\n",
       "        vertical-align: middle;\n",
       "    }\n",
       "\n",
       "    .dataframe tbody tr th {\n",
       "        vertical-align: top;\n",
       "    }\n",
       "\n",
       "    .dataframe thead th {\n",
       "        text-align: right;\n",
       "    }\n",
       "</style>\n",
       "<table border=\"1\" class=\"dataframe\">\n",
       "  <thead>\n",
       "    <tr style=\"text-align: right;\">\n",
       "      <th></th>\n",
       "      <th>Maize True Gene</th>\n",
       "      <th>Setaria</th>\n",
       "      <th>Replace by B</th>\n",
       "    </tr>\n",
       "    <tr>\n",
       "      <th>Replace by B</th>\n",
       "      <th></th>\n",
       "      <th></th>\n",
       "      <th></th>\n",
       "    </tr>\n",
       "  </thead>\n",
       "  <tbody>\n",
       "    <tr>\n",
       "      <th>Zm00001d027230</th>\n",
       "      <td>Zm00001d027230</td>\n",
       "      <td>NaN</td>\n",
       "      <td>Zm00001d027230</td>\n",
       "    </tr>\n",
       "    <tr>\n",
       "      <th>Zm00001d027231</th>\n",
       "      <td>Zm00001d027231</td>\n",
       "      <td>NaN</td>\n",
       "      <td>Zm00001d027231</td>\n",
       "    </tr>\n",
       "    <tr>\n",
       "      <th>Zm00001d027236</th>\n",
       "      <td>Zm00001d027236</td>\n",
       "      <td>NaN</td>\n",
       "      <td>Zm00001d027236</td>\n",
       "    </tr>\n",
       "    <tr>\n",
       "      <th>Zm00001d027239</th>\n",
       "      <td>Zm00001d027239</td>\n",
       "      <td>NaN</td>\n",
       "      <td>Zm00001d027239</td>\n",
       "    </tr>\n",
       "    <tr>\n",
       "      <th>Zm00001d027240</th>\n",
       "      <td>Zm00001d027240</td>\n",
       "      <td>NaN</td>\n",
       "      <td>Zm00001d027240</td>\n",
       "    </tr>\n",
       "    <tr>\n",
       "      <th>...</th>\n",
       "      <td>...</td>\n",
       "      <td>...</td>\n",
       "      <td>...</td>\n",
       "    </tr>\n",
       "    <tr>\n",
       "      <th>Sevir.J014000</th>\n",
       "      <td>Sevir.J014000</td>\n",
       "      <td>NaN</td>\n",
       "      <td>Sevir.J014000</td>\n",
       "    </tr>\n",
       "    <tr>\n",
       "      <th>Sevir.J015100</th>\n",
       "      <td>Sevir.J015100</td>\n",
       "      <td>NaN</td>\n",
       "      <td>Sevir.J015100</td>\n",
       "    </tr>\n",
       "    <tr>\n",
       "      <th>Sevir.J015900</th>\n",
       "      <td>Sevir.J015900</td>\n",
       "      <td>NaN</td>\n",
       "      <td>Sevir.J015900</td>\n",
       "    </tr>\n",
       "    <tr>\n",
       "      <th>Sevir.J016300</th>\n",
       "      <td>Sevir.J016300</td>\n",
       "      <td>NaN</td>\n",
       "      <td>Sevir.J016300</td>\n",
       "    </tr>\n",
       "    <tr>\n",
       "      <th>Sevir.J016600</th>\n",
       "      <td>Sevir.J016600</td>\n",
       "      <td>NaN</td>\n",
       "      <td>Sevir.J016600</td>\n",
       "    </tr>\n",
       "  </tbody>\n",
       "</table>\n",
       "<p>56814 rows × 3 columns</p>\n",
       "</div>"
      ],
      "text/plain": [
       "               Maize True Gene Setaria    Replace by B\n",
       "Replace by B                                          \n",
       "Zm00001d027230  Zm00001d027230     NaN  Zm00001d027230\n",
       "Zm00001d027231  Zm00001d027231     NaN  Zm00001d027231\n",
       "Zm00001d027236  Zm00001d027236     NaN  Zm00001d027236\n",
       "Zm00001d027239  Zm00001d027239     NaN  Zm00001d027239\n",
       "Zm00001d027240  Zm00001d027240     NaN  Zm00001d027240\n",
       "...                        ...     ...             ...\n",
       "Sevir.J014000    Sevir.J014000     NaN   Sevir.J014000\n",
       "Sevir.J015100    Sevir.J015100     NaN   Sevir.J015100\n",
       "Sevir.J015900    Sevir.J015900     NaN   Sevir.J015900\n",
       "Sevir.J016300    Sevir.J016300     NaN   Sevir.J016300\n",
       "Sevir.J016600    Sevir.J016600     NaN   Sevir.J016600\n",
       "\n",
       "[56814 rows x 3 columns]"
      ]
     },
     "execution_count": 13,
     "metadata": {},
     "output_type": "execute_result"
    }
   ],
   "source": [
    "modified_norm_data_beta_set_names"
   ]
  },
  {
   "cell_type": "code",
   "execution_count": 19,
   "metadata": {},
   "outputs": [],
   "source": [
    "modified_norm_data_alpha_set_names = norm_data_maize_genes_to_replace_alpha_set.var.merge(right = setaria_genes_alpha, left_on = 'Maize True Gene', right_on= 'Setaria', how = 'left')\n",
    "modified_norm_data_beta_set_names = norm_data_maize_genes_to_replace_beta_set.var.merge(right = setaria_genes_beta, left_on = 'Maize True Gene', right_on= 'Setaria', how = 'left')"
   ]
  },
  {
   "cell_type": "code",
   "execution_count": null,
   "metadata": {},
   "outputs": [],
   "source": [
    "modified_norm_data_alpha_sorg_names['Replace by A'] = modified_norm_data_alpha_sorg_names['Replace by A'].fillna(value = modified_norm_data_alpha_sorg_names['Maize True Gene'])\n",
    "modified_norm_data_alpha_sorg_names"
   ]
  },
  {
   "cell_type": "code",
   "execution_count": null,
   "metadata": {},
   "outputs": [],
   "source": [
    "modified_norm_data_beta_sorg_names['Replace by B'] = modified_norm_data_beta_sorg_names['Replace by B'].fillna(value = modified_norm_data_beta_sorg_names['Maize True Gene'])\n",
    "modified_norm_data_beta_sorg_names"
   ]
  },
  {
   "cell_type": "code",
   "execution_count": 20,
   "metadata": {},
   "outputs": [],
   "source": [
    "modified_norm_data_alpha_set_names['Replace by A'] = modified_norm_data_alpha_set_names['Replace by A'].fillna(value = modified_norm_data_alpha_set_names['Maize True Gene'])\n",
    "modified_norm_data_beta_set_names['Replace by B'] = modified_norm_data_beta_set_names['Replace by B'].fillna(value = modified_norm_data_beta_set_names['Maize True Gene'])\n"
   ]
  },
  {
   "cell_type": "code",
   "execution_count": null,
   "metadata": {},
   "outputs": [],
   "source": [
    "modified_norm_data_alpha_sorg_names.index = modified_norm_data_alpha_sorg_names['Replace by A']"
   ]
  },
  {
   "cell_type": "code",
   "execution_count": null,
   "metadata": {},
   "outputs": [],
   "source": [
    "modified_norm_data_beta_sorg_names.index = modified_norm_data_beta_sorg_names['Replace by B']"
   ]
  },
  {
   "cell_type": "code",
   "execution_count": 21,
   "metadata": {},
   "outputs": [],
   "source": [
    "modified_norm_data_alpha_set_names.index = modified_norm_data_alpha_set_names['Replace by A']\n",
    "modified_norm_data_beta_set_names.index = modified_norm_data_beta_set_names['Replace by B']"
   ]
  },
  {
   "cell_type": "code",
   "execution_count": null,
   "metadata": {},
   "outputs": [],
   "source": [
    "modified_norm_data_alpha_sorg_names"
   ]
  },
  {
   "cell_type": "code",
   "execution_count": null,
   "metadata": {},
   "outputs": [],
   "source": [
    "modified_norm_data_alpha_set_names.drop_duplicates(subset = 'Maize True Gene')"
   ]
  },
  {
   "cell_type": "code",
   "execution_count": null,
   "metadata": {},
   "outputs": [],
   "source": [
    "norm_data_swapped_genes_sorghum_alpha = norm_data_maize_genes_to_replace_alpha_sorg.copy()\n",
    "norm_data_swapped_genes_sorghum_alpha"
   ]
  },
  {
   "cell_type": "code",
   "execution_count": null,
   "metadata": {},
   "outputs": [],
   "source": [
    "norm_data_swapped_genes_sorghum_beta = norm_data_maize_genes_to_replace_beta_sorg.copy()\n",
    "norm_data_swapped_genes_sorghum_beta"
   ]
  },
  {
   "cell_type": "code",
   "execution_count": 22,
   "metadata": {},
   "outputs": [],
   "source": [
    "norm_data_swapped_genes_setaria_alpha = norm_data_maize_genes_to_replace_alpha_set.copy()\n",
    "norm_data_swapped_genes_setaria_beta = norm_data_maize_genes_to_replace_beta_set.copy()\n"
   ]
  },
  {
   "cell_type": "code",
   "execution_count": null,
   "metadata": {},
   "outputs": [],
   "source": [
    "norm_data_swapped_genes_sorghum_alpha.var = modified_norm_data_alpha_sorg_names\n"
   ]
  },
  {
   "cell_type": "code",
   "execution_count": null,
   "metadata": {},
   "outputs": [],
   "source": [
    "norm_data_swapped_genes_sorghum_beta.var = modified_norm_data_beta_sorg_names"
   ]
  },
  {
   "cell_type": "code",
   "execution_count": null,
   "metadata": {},
   "outputs": [],
   "source": [
    "norm_data_swapped_genes_setaria_alpha"
   ]
  },
  {
   "cell_type": "code",
   "execution_count": null,
   "metadata": {},
   "outputs": [],
   "source": [
    "modified_norm_data_alpha_set_names"
   ]
  },
  {
   "cell_type": "code",
   "execution_count": 23,
   "metadata": {},
   "outputs": [],
   "source": [
    "norm_data_swapped_genes_setaria_alpha.var = modified_norm_data_alpha_set_names\n",
    "norm_data_swapped_genes_setaria_beta.var = modified_norm_data_beta_set_names"
   ]
  },
  {
   "cell_type": "code",
   "execution_count": null,
   "metadata": {},
   "outputs": [],
   "source": [
    "norm_data_swapped_genes_sorghum_alpha.var"
   ]
  },
  {
   "cell_type": "code",
   "execution_count": null,
   "metadata": {},
   "outputs": [],
   "source": [
    "norm_data_swapped_genes_sorghum_beta.var"
   ]
  },
  {
   "cell_type": "code",
   "execution_count": null,
   "metadata": {},
   "outputs": [],
   "source": [
    "#alias_File.to_csv('/data/passala/Collaborator_Data/Bruno_Ken_Collab/Mini_EX_Files/Full_clone/MINI-EX/data_zma/filled_zma_gene_aliases.txt', index= False, sep = '\\t')"
   ]
  },
  {
   "cell_type": "code",
   "execution_count": null,
   "metadata": {},
   "outputs": [],
   "source": [
    "# maize_table = pd.read_csv('/data/CoCoCoNet/geneInfo/maize_info.csv')\n",
    "# maize_table = maize_table[['EnsemblID','GeneSymbol','UniProtID']]\n",
    "# maize_table.columns = ['locus_name','symbol','full_name']\n",
    "# maize_table.to_csv('/data/passala/Collaborator_Data/Bruno_Ken_Collab/Mini_EX_Files/Full_clone/MINI-EX/data_zma/zma_gene_aliases.txt', index= False, sep = '\\t')"
   ]
  },
  {
   "cell_type": "code",
   "execution_count": null,
   "metadata": {},
   "outputs": [],
   "source": [
    "tf_list = pd.read_csv('/data/passala/Collaborator_Data/Bruno_Ken_Collab/Mini_EX_Files/Initialization/zma_TF2fam2mot.txt', sep = '\\t')\n",
    "# tf_list = tf_list['Zm00001d050368']\n",
    "# tf_list"
   ]
  },
  {
   "cell_type": "code",
   "execution_count": null,
   "metadata": {},
   "outputs": [],
   "source": [
    "tf_list"
   ]
  },
  {
   "cell_type": "code",
   "execution_count": null,
   "metadata": {},
   "outputs": [],
   "source": [
    "tf_list.loc[tf_list['Zm00001d050368'].isin(set_table['locus_name'])]"
   ]
  },
  {
   "cell_type": "code",
   "execution_count": null,
   "metadata": {},
   "outputs": [],
   "source": [
    "#tf_list.to_csv('/data/passala/Collaborator_Data/Bruno_Ken_Collab/Mini_EX_Files/INPUTS/TF_list.txt', index= False, sep = '\\t', header = False)"
   ]
  },
  {
   "cell_type": "code",
   "execution_count": 24,
   "metadata": {},
   "outputs": [],
   "source": [
    "cell_identity = pd.read_csv('/data/passala/Collaborator_Data/Bruno_Ken_Collab/Post_review_Dataset/Meta_Maize_Sorghum_Setaria_Nuclei_Cells_SCT_OrthologousgenesGoodname_Sept2022.csv',index_col = 0)\n",
    "norm_data.obs = cell_identity\n",
    "# norm_data_swapped_genes_sorghum_alpha.obs = cell_identity\n",
    "# norm_data_swapped_genes_sorghum_beta.obs = cell_identity"
   ]
  },
  {
   "cell_type": "code",
   "execution_count": 25,
   "metadata": {},
   "outputs": [],
   "source": [
    "norm_data_swapped_genes_setaria_alpha.obs = cell_identity\n",
    "norm_data_swapped_genes_setaria_beta.obs = cell_identity"
   ]
  },
  {
   "cell_type": "code",
   "execution_count": null,
   "metadata": {},
   "outputs": [],
   "source": [
    "norm_data.obs = norm_data.obs.rename(columns = {'orig.ident':'Batch','Annotation':'Cell Cluster Annotation','type':'Type'})\n",
    "norm_data_swapped_genes_sorghum_alpha.obs = norm_data_swapped_genes_sorghum_alpha.obs.rename(columns = {'orig.ident':'Batch','Annotation':'Cell Cluster Annotation','type':'Type'})\n",
    "norm_data_swapped_genes_sorghum_alpha.obs = norm_data_swapped_genes_sorghum_beta.obs.rename(columns = {'orig.ident':'Batch','Annotation':'Cell Cluster Annotation','type':'Type'})"
   ]
  },
  {
   "cell_type": "code",
   "execution_count": 26,
   "metadata": {},
   "outputs": [],
   "source": [
    "norm_data_swapped_genes_setaria_alpha.obs = norm_data_swapped_genes_setaria_alpha.obs.rename(columns = {'orig.ident':'Batch','Annotation':'Cell Cluster Annotation','type':'Type'})\n",
    "norm_data_swapped_genes_setaria_alpha.obs = norm_data_swapped_genes_setaria_beta.obs.rename(columns = {'orig.ident':'Batch','Annotation':'Cell Cluster Annotation','type':'Type'})"
   ]
  },
  {
   "cell_type": "code",
   "execution_count": null,
   "metadata": {},
   "outputs": [],
   "source": [
    "# norm_data.var['ZM'] = norm_data.var_names.str.startswith('Zm')\n",
    "# norm_data = norm_data[:, norm_data.var['ZM'] == True] "
   ]
  },
  {
   "cell_type": "code",
   "execution_count": null,
   "metadata": {},
   "outputs": [],
   "source": [
    "\n",
    "norm_data_swapped_genes_sorghum_alpha.var['ZM'] = norm_data_swapped_genes_sorghum_alpha.var_names.str.startswith('Zm')\n",
    "norm_data_swapped_genes_sorghum_alpha = norm_data_swapped_genes_sorghum_alpha[:, norm_data_swapped_genes_sorghum_alpha.var['ZM'] == True] \n"
   ]
  },
  {
   "cell_type": "code",
   "execution_count": null,
   "metadata": {},
   "outputs": [],
   "source": [
    "\n",
    "norm_data_swapped_genes_sorghum_beta.var['ZM'] = norm_data_swapped_genes_sorghum_beta.var_names.str.startswith('Zm')\n",
    "norm_data_swapped_genes_sorghum_beta = norm_data_swapped_genes_sorghum_beta[:, norm_data_swapped_genes_sorghum_beta.var['ZM'] == True] \n"
   ]
  },
  {
   "cell_type": "code",
   "execution_count": 27,
   "metadata": {},
   "outputs": [],
   "source": [
    "\n",
    "norm_data_swapped_genes_setaria_alpha.var['ZM'] = norm_data_swapped_genes_setaria_alpha.var_names.str.startswith('Zm')\n",
    "norm_data_swapped_genes_setaria_alpha = norm_data_swapped_genes_setaria_alpha[:, norm_data_swapped_genes_setaria_alpha.var['ZM'] == True] \n",
    "\n",
    "norm_data_swapped_genes_setaria_beta.var['ZM'] = norm_data_swapped_genes_setaria_beta.var_names.str.startswith('Zm')\n",
    "norm_data_swapped_genes_setaria_beta = norm_data_swapped_genes_setaria_beta[:, norm_data_swapped_genes_setaria_beta.var['ZM'] == True] \n"
   ]
  },
  {
   "cell_type": "code",
   "execution_count": null,
   "metadata": {},
   "outputs": [],
   "source": [
    "norm_data_swapped_genes_sorghum_alpha"
   ]
  },
  {
   "cell_type": "code",
   "execution_count": null,
   "metadata": {},
   "outputs": [],
   "source": [
    "norm_data_swapped_genes_sorghum_beta"
   ]
  },
  {
   "cell_type": "code",
   "execution_count": null,
   "metadata": {},
   "outputs": [],
   "source": [
    "# cell_type_list = norm_data.obs['Cell Cluster Annotation'].unique()"
   ]
  },
  {
   "cell_type": "code",
   "execution_count": null,
   "metadata": {},
   "outputs": [],
   "source": [
    "# fake_cluster_id = np.arange(len(cell_type_list))\n",
    "# fake_cluster_id"
   ]
  },
  {
   "cell_type": "code",
   "execution_count": null,
   "metadata": {},
   "outputs": [],
   "source": [
    "# cluster_2_ident = pd.DataFrame(data = zip(fake_cluster_id,cell_type_list))\n",
    "# cluster_2_ident"
   ]
  },
  {
   "cell_type": "code",
   "execution_count": null,
   "metadata": {},
   "outputs": [],
   "source": [
    "# norm_data.obs['Cell ID']= norm_data.obs.index\n",
    "# norm_data.obs"
   ]
  },
  {
   "cell_type": "code",
   "execution_count": null,
   "metadata": {},
   "outputs": [],
   "source": [
    "# maize_cells= norm_data[norm_data.obs['Species'] == 'Maize', :]\n",
    "# sorghum_cells= norm_data[norm_data.obs['Species'] == 'Sorghum', :]\n",
    "# setaria_cells= norm_data[norm_data.obs['Species'] == 'Setaria', :]"
   ]
  },
  {
   "cell_type": "code",
   "execution_count": null,
   "metadata": {},
   "outputs": [],
   "source": [
    "sorghum_cells_alpha = norm_data_swapped_genes_sorghum_alpha[norm_data_swapped_genes_sorghum_alpha.obs['Species'] == 'Sorghum', :]"
   ]
  },
  {
   "cell_type": "code",
   "execution_count": null,
   "metadata": {},
   "outputs": [],
   "source": [
    "sorghum_cells_beta = norm_data_swapped_genes_sorghum_beta[norm_data_swapped_genes_sorghum_beta.obs['Species'] == 'Sorghum', :]"
   ]
  },
  {
   "cell_type": "code",
   "execution_count": 28,
   "metadata": {},
   "outputs": [],
   "source": [
    "setaria_cells_alpha = norm_data_swapped_genes_setaria_alpha[norm_data_swapped_genes_setaria_alpha.obs['Species'] == 'Setaria', :]\n",
    "setaria_cells_beta = norm_data_swapped_genes_setaria_beta[norm_data_swapped_genes_setaria_beta.obs['Species'] == 'Setaria', :]"
   ]
  },
  {
   "cell_type": "code",
   "execution_count": null,
   "metadata": {},
   "outputs": [],
   "source": [
    "# cell_2_clusters = setaria_cells.obs.merge(left_on='Cell Cluster Annotation',right = cluster_2_ident, right_on= 1)\n",
    "# cell_2_clusters\n",
    "# cell_2_clusters = cell_2_clusters.rename(columns = {0:'Forced Clusters'})\n",
    "# cell_2_clusters\n",
    "# cell_2_clusters = cell_2_clusters[['Cell ID','Forced Clusters','Cell Cluster Annotation']]\n",
    "# cell_2_clusters\n",
    "#cell_2_clusters.to_csv('/data/passala/Collaborator_Data/Bruno_Ken_Collab/Mini_EX_Files/Full_clone/MINI-EX/Setaria_only_input/setaria_only_cells2clusters.txt', index= False, sep = '\\t', header = False)"
   ]
  },
  {
   "cell_type": "code",
   "execution_count": null,
   "metadata": {},
   "outputs": [],
   "source": [
    "sorghum_cells_alpha"
   ]
  },
  {
   "cell_type": "code",
   "execution_count": null,
   "metadata": {},
   "outputs": [],
   "source": [
    "norm_data.obs"
   ]
  },
  {
   "cell_type": "code",
   "execution_count": null,
   "metadata": {},
   "outputs": [],
   "source": [
    "#cluster_2_ident.to_csv('/data/passala/Collaborator_Data/Bruno_Ken_Collab/Mini_EX_Files/INPUTS/forced_cluster_identities.txt', index= False, sep = '\\t')"
   ]
  },
  {
   "cell_type": "code",
   "execution_count": null,
   "metadata": {},
   "outputs": [],
   "source": [
    "sorghum_cells_alpha.var"
   ]
  },
  {
   "cell_type": "code",
   "execution_count": null,
   "metadata": {},
   "outputs": [],
   "source": [
    "non_duplicated_alpha = sorghum_cells_alpha.var.drop_duplicates(subset = 'Replace by A', keep = False).index\n",
    "sorghum_cells_alpha = sorghum_cells_alpha[:,sorghum_cells_alpha.var.index.isin(non_duplicated_alpha)]\n",
    "sorghum_cells_alpha"
   ]
  },
  {
   "cell_type": "code",
   "execution_count": null,
   "metadata": {},
   "outputs": [],
   "source": [
    "non_duplicated_beta = sorghum_cells_beta.var.drop_duplicates(subset = 'Replace by B', keep = False).index\n",
    "sorghum_cells_beta = sorghum_cells_beta[:,sorghum_cells_beta.var.index.isin(non_duplicated_beta)]\n",
    "sorghum_cells_beta"
   ]
  },
  {
   "cell_type": "code",
   "execution_count": 29,
   "metadata": {},
   "outputs": [],
   "source": [
    "non_duplicated_alpha_set = setaria_cells_alpha.var.drop_duplicates(subset = 'Replace by A', keep = False).index\n",
    "setaria_cells_alpha = setaria_cells_alpha[:,setaria_cells_alpha.var.index.isin(non_duplicated_alpha_set)]\n",
    "non_duplicated_beta_set = setaria_cells_beta.var.drop_duplicates(subset = 'Replace by B', keep = False).index\n",
    "setaria_cells_beta = setaria_cells_beta[:,setaria_cells_beta.var.index.isin(non_duplicated_beta_set)]"
   ]
  },
  {
   "cell_type": "code",
   "execution_count": 34,
   "metadata": {},
   "outputs": [
    {
     "data": {
      "text/plain": [
       "View of AnnData object with n_obs × n_vars = 26622 × 29483\n",
       "    obs: 'orig.ident', 'nCount_RNA', 'nFeature_RNA', 'nCount_SCT', 'nFeature_SCT', 'integrated_snn_res.0.6', 'seurat_clusters', 'Species', 'Annotation', 'type'\n",
       "    var: 'Maize True Gene', 'Setaria', 'Replace by B', 'ZM'"
      ]
     },
     "execution_count": 34,
     "metadata": {},
     "output_type": "execute_result"
    }
   ],
   "source": [
    "setaria_cells_beta"
   ]
  },
  {
   "cell_type": "code",
   "execution_count": 35,
   "metadata": {},
   "outputs": [
    {
     "data": {
      "text/html": [
       "<div>\n",
       "<style scoped>\n",
       "    .dataframe tbody tr th:only-of-type {\n",
       "        vertical-align: middle;\n",
       "    }\n",
       "\n",
       "    .dataframe tbody tr th {\n",
       "        vertical-align: top;\n",
       "    }\n",
       "\n",
       "    .dataframe thead th {\n",
       "        text-align: right;\n",
       "    }\n",
       "</style>\n",
       "<table border=\"1\" class=\"dataframe\">\n",
       "  <thead>\n",
       "    <tr style=\"text-align: right;\">\n",
       "      <th></th>\n",
       "      <th>orig.ident</th>\n",
       "      <th>nCount_RNA</th>\n",
       "      <th>nFeature_RNA</th>\n",
       "      <th>nCount_SCT</th>\n",
       "      <th>nFeature_SCT</th>\n",
       "      <th>integrated_snn_res.0.6</th>\n",
       "      <th>seurat_clusters</th>\n",
       "      <th>Species</th>\n",
       "      <th>Annotation</th>\n",
       "      <th>type</th>\n",
       "    </tr>\n",
       "  </thead>\n",
       "  <tbody>\n",
       "    <tr>\n",
       "      <th>Set_Cell_AAACCTGAGATGGCGT-1</th>\n",
       "      <td>Set_Cells</td>\n",
       "      <td>2524</td>\n",
       "      <td>1465</td>\n",
       "      <td>3060</td>\n",
       "      <td>1459</td>\n",
       "      <td>2</td>\n",
       "      <td>2</td>\n",
       "      <td>Setaria</td>\n",
       "      <td>Cortex_2</td>\n",
       "      <td>Cell</td>\n",
       "    </tr>\n",
       "    <tr>\n",
       "      <th>Set_Cell_AAACCTGGTCGTGGCT-1</th>\n",
       "      <td>Set_Cells</td>\n",
       "      <td>5349</td>\n",
       "      <td>1653</td>\n",
       "      <td>4028</td>\n",
       "      <td>1641</td>\n",
       "      <td>4</td>\n",
       "      <td>4</td>\n",
       "      <td>Setaria</td>\n",
       "      <td>Cortex_3</td>\n",
       "      <td>Cell</td>\n",
       "    </tr>\n",
       "    <tr>\n",
       "      <th>Set_Cell_AAACGGGAGAGTACAT-1</th>\n",
       "      <td>Set_Cells</td>\n",
       "      <td>6314</td>\n",
       "      <td>2376</td>\n",
       "      <td>4248</td>\n",
       "      <td>2292</td>\n",
       "      <td>11</td>\n",
       "      <td>11</td>\n",
       "      <td>Setaria</td>\n",
       "      <td>Pericycle</td>\n",
       "      <td>Cell</td>\n",
       "    </tr>\n",
       "    <tr>\n",
       "      <th>Set_Cell_AAACGGGCATAAAGGT-1</th>\n",
       "      <td>Set_Cells</td>\n",
       "      <td>3653</td>\n",
       "      <td>1467</td>\n",
       "      <td>3627</td>\n",
       "      <td>1449</td>\n",
       "      <td>3</td>\n",
       "      <td>3</td>\n",
       "      <td>Setaria</td>\n",
       "      <td>LRC</td>\n",
       "      <td>Cell</td>\n",
       "    </tr>\n",
       "    <tr>\n",
       "      <th>Set_Cell_AAACGGGCATGTCTCC-1</th>\n",
       "      <td>Set_Cells</td>\n",
       "      <td>5384</td>\n",
       "      <td>1956</td>\n",
       "      <td>4208</td>\n",
       "      <td>1939</td>\n",
       "      <td>18</td>\n",
       "      <td>18</td>\n",
       "      <td>Setaria</td>\n",
       "      <td>Epidermis_3</td>\n",
       "      <td>Cell</td>\n",
       "    </tr>\n",
       "    <tr>\n",
       "      <th>...</th>\n",
       "      <td>...</td>\n",
       "      <td>...</td>\n",
       "      <td>...</td>\n",
       "      <td>...</td>\n",
       "      <td>...</td>\n",
       "      <td>...</td>\n",
       "      <td>...</td>\n",
       "      <td>...</td>\n",
       "      <td>...</td>\n",
       "      <td>...</td>\n",
       "    </tr>\n",
       "    <tr>\n",
       "      <th>Set_Cells_3_TTTGGTTTCTGGGTCG</th>\n",
       "      <td>Set_Cells_3</td>\n",
       "      <td>9192</td>\n",
       "      <td>2954</td>\n",
       "      <td>21040</td>\n",
       "      <td>3212</td>\n",
       "      <td>14</td>\n",
       "      <td>14</td>\n",
       "      <td>Setaria</td>\n",
       "      <td>Epidermis_2</td>\n",
       "      <td>Cell</td>\n",
       "    </tr>\n",
       "    <tr>\n",
       "      <th>Set_Cells_3_TTTGTTGAGGCTCACC</th>\n",
       "      <td>Set_Cells_3</td>\n",
       "      <td>27048</td>\n",
       "      <td>4655</td>\n",
       "      <td>23549</td>\n",
       "      <td>4654</td>\n",
       "      <td>16</td>\n",
       "      <td>16</td>\n",
       "      <td>Setaria</td>\n",
       "      <td>Trichoblast</td>\n",
       "      <td>Cell</td>\n",
       "    </tr>\n",
       "    <tr>\n",
       "      <th>Set_Cells_3_TTTGTTGCAACCAGAG</th>\n",
       "      <td>Set_Cells_3</td>\n",
       "      <td>21855</td>\n",
       "      <td>5009</td>\n",
       "      <td>22238</td>\n",
       "      <td>5009</td>\n",
       "      <td>17</td>\n",
       "      <td>17</td>\n",
       "      <td>Setaria</td>\n",
       "      <td>Phloem</td>\n",
       "      <td>Cell</td>\n",
       "    </tr>\n",
       "    <tr>\n",
       "      <th>Set_Cells_3_TTTGTTGCAGTCTACA</th>\n",
       "      <td>Set_Cells_3</td>\n",
       "      <td>9015</td>\n",
       "      <td>2669</td>\n",
       "      <td>20346</td>\n",
       "      <td>3006</td>\n",
       "      <td>3</td>\n",
       "      <td>3</td>\n",
       "      <td>Setaria</td>\n",
       "      <td>LRC</td>\n",
       "      <td>Cell</td>\n",
       "    </tr>\n",
       "    <tr>\n",
       "      <th>Set_Cells_3_TTTGTTGGTGGTCTCG</th>\n",
       "      <td>Set_Cells_3</td>\n",
       "      <td>10959</td>\n",
       "      <td>3722</td>\n",
       "      <td>20927</td>\n",
       "      <td>3811</td>\n",
       "      <td>4</td>\n",
       "      <td>4</td>\n",
       "      <td>Setaria</td>\n",
       "      <td>Cortex_3</td>\n",
       "      <td>Cell</td>\n",
       "    </tr>\n",
       "  </tbody>\n",
       "</table>\n",
       "<p>26622 rows × 10 columns</p>\n",
       "</div>"
      ],
      "text/plain": [
       "                               orig.ident  nCount_RNA  nFeature_RNA  \\\n",
       "Set_Cell_AAACCTGAGATGGCGT-1     Set_Cells        2524          1465   \n",
       "Set_Cell_AAACCTGGTCGTGGCT-1     Set_Cells        5349          1653   \n",
       "Set_Cell_AAACGGGAGAGTACAT-1     Set_Cells        6314          2376   \n",
       "Set_Cell_AAACGGGCATAAAGGT-1     Set_Cells        3653          1467   \n",
       "Set_Cell_AAACGGGCATGTCTCC-1     Set_Cells        5384          1956   \n",
       "...                                   ...         ...           ...   \n",
       "Set_Cells_3_TTTGGTTTCTGGGTCG  Set_Cells_3        9192          2954   \n",
       "Set_Cells_3_TTTGTTGAGGCTCACC  Set_Cells_3       27048          4655   \n",
       "Set_Cells_3_TTTGTTGCAACCAGAG  Set_Cells_3       21855          5009   \n",
       "Set_Cells_3_TTTGTTGCAGTCTACA  Set_Cells_3        9015          2669   \n",
       "Set_Cells_3_TTTGTTGGTGGTCTCG  Set_Cells_3       10959          3722   \n",
       "\n",
       "                              nCount_SCT  nFeature_SCT  \\\n",
       "Set_Cell_AAACCTGAGATGGCGT-1         3060          1459   \n",
       "Set_Cell_AAACCTGGTCGTGGCT-1         4028          1641   \n",
       "Set_Cell_AAACGGGAGAGTACAT-1         4248          2292   \n",
       "Set_Cell_AAACGGGCATAAAGGT-1         3627          1449   \n",
       "Set_Cell_AAACGGGCATGTCTCC-1         4208          1939   \n",
       "...                                  ...           ...   \n",
       "Set_Cells_3_TTTGGTTTCTGGGTCG       21040          3212   \n",
       "Set_Cells_3_TTTGTTGAGGCTCACC       23549          4654   \n",
       "Set_Cells_3_TTTGTTGCAACCAGAG       22238          5009   \n",
       "Set_Cells_3_TTTGTTGCAGTCTACA       20346          3006   \n",
       "Set_Cells_3_TTTGTTGGTGGTCTCG       20927          3811   \n",
       "\n",
       "                              integrated_snn_res.0.6  seurat_clusters  \\\n",
       "Set_Cell_AAACCTGAGATGGCGT-1                        2                2   \n",
       "Set_Cell_AAACCTGGTCGTGGCT-1                        4                4   \n",
       "Set_Cell_AAACGGGAGAGTACAT-1                       11               11   \n",
       "Set_Cell_AAACGGGCATAAAGGT-1                        3                3   \n",
       "Set_Cell_AAACGGGCATGTCTCC-1                       18               18   \n",
       "...                                              ...              ...   \n",
       "Set_Cells_3_TTTGGTTTCTGGGTCG                      14               14   \n",
       "Set_Cells_3_TTTGTTGAGGCTCACC                      16               16   \n",
       "Set_Cells_3_TTTGTTGCAACCAGAG                      17               17   \n",
       "Set_Cells_3_TTTGTTGCAGTCTACA                       3                3   \n",
       "Set_Cells_3_TTTGTTGGTGGTCTCG                       4                4   \n",
       "\n",
       "                              Species   Annotation  type  \n",
       "Set_Cell_AAACCTGAGATGGCGT-1   Setaria     Cortex_2  Cell  \n",
       "Set_Cell_AAACCTGGTCGTGGCT-1   Setaria     Cortex_3  Cell  \n",
       "Set_Cell_AAACGGGAGAGTACAT-1   Setaria    Pericycle  Cell  \n",
       "Set_Cell_AAACGGGCATAAAGGT-1   Setaria          LRC  Cell  \n",
       "Set_Cell_AAACGGGCATGTCTCC-1   Setaria  Epidermis_3  Cell  \n",
       "...                               ...          ...   ...  \n",
       "Set_Cells_3_TTTGGTTTCTGGGTCG  Setaria  Epidermis_2  Cell  \n",
       "Set_Cells_3_TTTGTTGAGGCTCACC  Setaria  Trichoblast  Cell  \n",
       "Set_Cells_3_TTTGTTGCAACCAGAG  Setaria       Phloem  Cell  \n",
       "Set_Cells_3_TTTGTTGCAGTCTACA  Setaria          LRC  Cell  \n",
       "Set_Cells_3_TTTGTTGGTGGTCTCG  Setaria     Cortex_3  Cell  \n",
       "\n",
       "[26622 rows x 10 columns]"
      ]
     },
     "execution_count": 35,
     "metadata": {},
     "output_type": "execute_result"
    }
   ],
   "source": [
    "setaria_cells_beta.obs"
   ]
  },
  {
   "cell_type": "code",
   "execution_count": null,
   "metadata": {},
   "outputs": [],
   "source": [
    "panda_of_expression_results_sorg_alpha = pd.DataFrame(index = sorghum_cells_alpha.obs.index, columns= sorghum_cells_alpha.var.index, data = sorghum_cells_alpha.X )\n"
   ]
  },
  {
   "cell_type": "code",
   "execution_count": null,
   "metadata": {},
   "outputs": [],
   "source": [
    "panda_of_expression_results_sorg_beta = pd.DataFrame(index = sorghum_cells_beta.obs.index, columns= sorghum_cells_beta.var.index, data = sorghum_cells_beta.X )\n"
   ]
  },
  {
   "cell_type": "code",
   "execution_count": 30,
   "metadata": {},
   "outputs": [],
   "source": [
    "panda_of_expression_results_set_alpha = pd.DataFrame(index = setaria_cells_alpha.obs.index, columns= setaria_cells_alpha.var.index, data = setaria_cells_alpha.X )\n",
    "panda_of_expression_results_set_beta = pd.DataFrame(index = setaria_cells_beta.obs.index, columns= setaria_cells_beta.var.index, data = setaria_cells_beta.X )\n"
   ]
  },
  {
   "cell_type": "code",
   "execution_count": null,
   "metadata": {},
   "outputs": [],
   "source": []
  },
  {
   "cell_type": "code",
   "execution_count": null,
   "metadata": {},
   "outputs": [],
   "source": [
    "# panda_of_expression_results_set = pd.DataFrame(index = setaria_cells.obs.index, columns= setaria_cells.var.index, data = setaria_cells.X )\n",
    "# panda_of_expression_results_maize = pd.DataFrame(index = maize_cells.obs.index, columns= maize_cells.var.index, data = maize_cells.X )\n",
    "# panda_of_expression_results_sorg = pd.DataFrame(index = sorghum_cells.obs.index, columns= sorghum_cells.var.index, data = sorghum_cells.X )\n"
   ]
  },
  {
   "cell_type": "code",
   "execution_count": null,
   "metadata": {},
   "outputs": [],
   "source": [
    "filtered_non_expressed_genes_sorg_alpha = panda_of_expression_results_sorg_alpha.loc[:,(panda_of_expression_results_sorg_alpha.sum()>1)]\n"
   ]
  },
  {
   "cell_type": "code",
   "execution_count": null,
   "metadata": {},
   "outputs": [],
   "source": [
    "filtered_non_expressed_genes_sorg_beta = panda_of_expression_results_sorg_beta.loc[:,(panda_of_expression_results_sorg_beta.sum()>1)]\n"
   ]
  },
  {
   "cell_type": "code",
   "execution_count": 31,
   "metadata": {},
   "outputs": [],
   "source": [
    "filtered_non_expressed_genes_set_alpha = panda_of_expression_results_set_alpha.loc[:,(panda_of_expression_results_set_alpha.sum()>1)]\n",
    "filtered_non_expressed_genes_set_beta = panda_of_expression_results_set_beta.loc[:,(panda_of_expression_results_set_beta.sum()>1)]\n"
   ]
  },
  {
   "cell_type": "code",
   "execution_count": null,
   "metadata": {},
   "outputs": [],
   "source": [
    "# filtered_non_expressed_genes_set = panda_of_expression_results_set.loc[:,(panda_of_expression_results_set.sum()>1)]\n",
    "# filtered_non_expressed_genes_maize = panda_of_expression_results_maize.loc[:,(panda_of_expression_results_maize.sum()>1)]\n",
    "# filtered_non_expressed_genes_sorg = panda_of_expression_results_sorg.loc[:,(panda_of_expression_results_sorg.sum()>1)]\n",
    "\n"
   ]
  },
  {
   "cell_type": "code",
   "execution_count": null,
   "metadata": {},
   "outputs": [],
   "source": [
    "#filtered_non_expressed_genes"
   ]
  },
  {
   "cell_type": "code",
   "execution_count": null,
   "metadata": {},
   "outputs": [],
   "source": [
    "transposed_matrix_sorg_alpha = filtered_non_expressed_genes_sorg_alpha.T\n",
    "transposed_matrix_sorg_alpha.index.name = 'geneid'"
   ]
  },
  {
   "cell_type": "code",
   "execution_count": null,
   "metadata": {},
   "outputs": [],
   "source": [
    "transposed_matrix_sorg_beta = filtered_non_expressed_genes_sorg_beta.T\n",
    "transposed_matrix_sorg_beta.index.name = 'geneid'"
   ]
  },
  {
   "cell_type": "code",
   "execution_count": 32,
   "metadata": {},
   "outputs": [],
   "source": [
    "transposed_matrix_set_alpha = filtered_non_expressed_genes_set_alpha.T\n",
    "transposed_matrix_set_alpha.index.name = 'geneid'\n",
    "\n",
    "transposed_matrix_set_beta = filtered_non_expressed_genes_set_beta.T\n",
    "transposed_matrix_set_beta.index.name = 'geneid'"
   ]
  },
  {
   "cell_type": "code",
   "execution_count": null,
   "metadata": {},
   "outputs": [],
   "source": [
    "# transposed_matrix_set = filtered_non_expressed_genes_set.T\n",
    "# transposed_matrix_set.index.name = 'geneid'\n",
    "\n",
    "# transposed_matrix_maize = filtered_non_expressed_genes_maize.T\n",
    "# transposed_matrix_maize.index.name = 'geneid'\n",
    "\n",
    "# transposed_matrix_sorg = filtered_non_expressed_genes_sorg.T\n",
    "# transposed_matrix_sorg.index.name = 'geneid'"
   ]
  },
  {
   "cell_type": "code",
   "execution_count": null,
   "metadata": {},
   "outputs": [],
   "source": [
    "#transposed_matrix"
   ]
  },
  {
   "cell_type": "code",
   "execution_count": 33,
   "metadata": {},
   "outputs": [],
   "source": [
    "transposed_matrix_set_alpha.to_csv('/data/passala/Collaborator_Data/Bruno_Ken_Collab/Mini_EX_Files/Full_clone/MINI-EX_Differnt_gene_list/Setaria_only_input/setariaalpha_matrix.txt', sep = '\\t')\n",
    "transposed_matrix_set_beta.to_csv('/data/passala/Collaborator_Data/Bruno_Ken_Collab/Mini_EX_Files/Full_clone/MINI-EX_Differnt_gene_list/Setaria_only_input/setariabeta_matrix.txt', sep = '\\t')"
   ]
  },
  {
   "cell_type": "code",
   "execution_count": null,
   "metadata": {},
   "outputs": [],
   "source": [
    "transposed_matrix_sorg_beta.to_csv('/data/passala/Collaborator_Data/Bruno_Ken_Collab/Mini_EX_Files/Full_clone/MINI-EX_Differnt_gene_list/Sorghum_only_input/sorghumbeta_matrix.txt', sep = '\\t')"
   ]
  },
  {
   "cell_type": "code",
   "execution_count": null,
   "metadata": {},
   "outputs": [],
   "source": [
    "#transposed_matrix_sorg_alpha.to_csv('/data/passala/Collaborator_Data/Bruno_Ken_Collab/Mini_EX_Files/Full_clone/MINI-EX_Differnt_gene_list/Sorghum_only_input/sorghum_alpha_matrix.txt', sep = '\\t')"
   ]
  },
  {
   "cell_type": "code",
   "execution_count": null,
   "metadata": {},
   "outputs": [],
   "source": [
    "# transposed_matrix_set.to_csv('/data/passala/Collaborator_Data/Bruno_Ken_Collab/Mini_EX_Files/Full_clone/MINI-EX_Differnt_gene_list/Setaria_only_input/setaria_only_matrix.txt', sep = '\\t')\n",
    "# transposed_matrix_maize.to_csv('/data/passala/Collaborator_Data/Bruno_Ken_Collab/Mini_EX_Files/Full_clone/MINI-EX_Differnt_gene_list/Maize_only_input/maize_only_matrix.txt', sep = '\\t')\n",
    "# transposed_matrix_sorg.to_csv('/data/passala/Collaborator_Data/Bruno_Ken_Collab/Mini_EX_Files/Full_clone/MINI-EX_Differnt_gene_list/Sorghum_only_input/sorghum_only_matrix.txt', sep = '\\t')"
   ]
  },
  {
   "cell_type": "code",
   "execution_count": null,
   "metadata": {},
   "outputs": [],
   "source": [
    "csv_version_markers = pd.read_csv('/data/passala/Collaborator_Data/Bruno_Ken_Collab/Post_review_Dataset/setaria_high_purity_markers.csv', index_col= 0)\n",
    "csv_version_markers"
   ]
  },
  {
   "cell_type": "code",
   "execution_count": null,
   "metadata": {},
   "outputs": [],
   "source": [
    "csv_version_markers = csv_version_markers.merge(left_on='cluster',right = cluster_2_ident, right_on= 1)\n",
    "csv_version_markers = csv_version_markers.drop(columns= ['cluster',1])\n",
    "csv_version_markers\n",
    "csv_version_markers = csv_version_markers.rename(columns = {0:'cluster', 'X':'geneID'})\n",
    "csv_version_markers\n",
    "csv_version_markers = csv_version_markers[['geneID','p_val','avg_log2FC','pct.1','pct.2','p_val_adj','cluster','gene']]\n",
    "csv_version_markers"
   ]
  },
  {
   "cell_type": "code",
   "execution_count": null,
   "metadata": {},
   "outputs": [],
   "source": [
    "#csv_version_markers.to_csv('/data/passala/Collaborator_Data/Bruno_Ken_Collab/Mini_EX_Files/Full_clone/MINI-EX/Setaria_only_input/setaria_only_allMarkers.txt', index= False, sep = '\\t')"
   ]
  },
  {
   "cell_type": "code",
   "execution_count": null,
   "metadata": {},
   "outputs": [],
   "source": []
  }
 ],
 "metadata": {
  "kernelspec": {
   "display_name": "Python 3.9.13 ('Single_cell_data_fix')",
   "language": "python",
   "name": "python3"
  },
  "language_info": {
   "codemirror_mode": {
    "name": "ipython",
    "version": 3
   },
   "file_extension": ".py",
   "mimetype": "text/x-python",
   "name": "python",
   "nbconvert_exporter": "python",
   "pygments_lexer": "ipython3",
   "version": "3.9.13"
  },
  "orig_nbformat": 4,
  "vscode": {
   "interpreter": {
    "hash": "7c4a923c2782415305cc89ecc77685f7a4b95b326e3fa1d4f46287355a63668f"
   }
  }
 },
 "nbformat": 4,
 "nbformat_minor": 2
}
