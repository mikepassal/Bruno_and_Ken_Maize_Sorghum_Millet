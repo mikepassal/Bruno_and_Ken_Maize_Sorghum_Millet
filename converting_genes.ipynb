{
 "cells": [
  {
   "cell_type": "code",
   "execution_count": 1,
   "metadata": {},
   "outputs": [],
   "source": [
    "from bioinfokit.analys import gff\n",
    "import pandas as pd"
   ]
  },
  {
   "cell_type": "code",
   "execution_count": 3,
   "metadata": {},
   "outputs": [],
   "source": [
    "#gff.gff_to_gtf(file = '/data/passala/Collaborator_Data/Bruno_Ken_Collab/Sviridis_311_v1.1.gene_exons.gff3')"
   ]
  },
  {
   "cell_type": "code",
   "execution_count": 2,
   "metadata": {},
   "outputs": [],
   "source": [
    "gene_converter = pd.read_csv('/data/CoCoCoNet/geneInfo/maize_info.csv')"
   ]
  },
  {
   "cell_type": "code",
   "execution_count": 1,
   "metadata": {},
   "outputs": [],
   "source": [
    "import Go_annotations as Ga\n"
   ]
  },
  {
   "cell_type": "code",
   "execution_count": 2,
   "metadata": {},
   "outputs": [],
   "source": [
    "test_go = Ga.get_go_annotations_as_panda('maize')"
   ]
  },
  {
   "cell_type": "code",
   "execution_count": 3,
   "metadata": {},
   "outputs": [
    {
     "data": {
      "text/html": "<div>\n<style scoped>\n    .dataframe tbody tr th:only-of-type {\n        vertical-align: middle;\n    }\n\n    .dataframe tbody tr th {\n        vertical-align: top;\n    }\n\n    .dataframe thead th {\n        text-align: right;\n    }\n</style>\n<table border=\"1\" class=\"dataframe\">\n  <thead>\n    <tr style=\"text-align: right;\">\n      <th>GO_term</th>\n      <th>GO:0000002</th>\n      <th>GO:0000003</th>\n      <th>GO:0000009</th>\n      <th>GO:0000012</th>\n      <th>GO:0000014</th>\n      <th>GO:0000015</th>\n      <th>GO:0000018</th>\n      <th>GO:0000019</th>\n      <th>GO:0000023</th>\n      <th>GO:0000025</th>\n      <th>...</th>\n      <th>GO:2001239</th>\n      <th>GO:2001240</th>\n      <th>GO:2001242</th>\n      <th>GO:2001243</th>\n      <th>GO:2001251</th>\n      <th>GO:2001252</th>\n      <th>GO:2001253</th>\n      <th>GO:2001289</th>\n      <th>GO:2001293</th>\n      <th>GO:2001294</th>\n    </tr>\n    <tr>\n      <th>NetworkIDs</th>\n      <th></th>\n      <th></th>\n      <th></th>\n      <th></th>\n      <th></th>\n      <th></th>\n      <th></th>\n      <th></th>\n      <th></th>\n      <th></th>\n      <th></th>\n      <th></th>\n      <th></th>\n      <th></th>\n      <th></th>\n      <th></th>\n      <th></th>\n      <th></th>\n      <th></th>\n      <th></th>\n      <th></th>\n    </tr>\n  </thead>\n  <tbody>\n    <tr>\n      <th>Zm00001d000001</th>\n      <td>0.0</td>\n      <td>0.0</td>\n      <td>0.0</td>\n      <td>0.0</td>\n      <td>0.0</td>\n      <td>0.0</td>\n      <td>0.0</td>\n      <td>0.0</td>\n      <td>0.0</td>\n      <td>0.0</td>\n      <td>...</td>\n      <td>0.0</td>\n      <td>0.0</td>\n      <td>0.0</td>\n      <td>0.0</td>\n      <td>0.0</td>\n      <td>0.0</td>\n      <td>0.0</td>\n      <td>0.0</td>\n      <td>0.0</td>\n      <td>0.0</td>\n    </tr>\n    <tr>\n      <th>Zm00001d000002</th>\n      <td>0.0</td>\n      <td>0.0</td>\n      <td>0.0</td>\n      <td>0.0</td>\n      <td>0.0</td>\n      <td>0.0</td>\n      <td>0.0</td>\n      <td>0.0</td>\n      <td>0.0</td>\n      <td>0.0</td>\n      <td>...</td>\n      <td>0.0</td>\n      <td>0.0</td>\n      <td>0.0</td>\n      <td>0.0</td>\n      <td>0.0</td>\n      <td>0.0</td>\n      <td>0.0</td>\n      <td>0.0</td>\n      <td>0.0</td>\n      <td>0.0</td>\n    </tr>\n    <tr>\n      <th>Zm00001d000004</th>\n      <td>0.0</td>\n      <td>0.0</td>\n      <td>0.0</td>\n      <td>0.0</td>\n      <td>0.0</td>\n      <td>0.0</td>\n      <td>0.0</td>\n      <td>0.0</td>\n      <td>0.0</td>\n      <td>0.0</td>\n      <td>...</td>\n      <td>0.0</td>\n      <td>0.0</td>\n      <td>0.0</td>\n      <td>0.0</td>\n      <td>0.0</td>\n      <td>0.0</td>\n      <td>0.0</td>\n      <td>0.0</td>\n      <td>0.0</td>\n      <td>0.0</td>\n    </tr>\n    <tr>\n      <th>Zm00001d000006</th>\n      <td>0.0</td>\n      <td>0.0</td>\n      <td>0.0</td>\n      <td>0.0</td>\n      <td>0.0</td>\n      <td>0.0</td>\n      <td>0.0</td>\n      <td>0.0</td>\n      <td>0.0</td>\n      <td>0.0</td>\n      <td>...</td>\n      <td>0.0</td>\n      <td>0.0</td>\n      <td>0.0</td>\n      <td>0.0</td>\n      <td>0.0</td>\n      <td>0.0</td>\n      <td>0.0</td>\n      <td>0.0</td>\n      <td>0.0</td>\n      <td>0.0</td>\n    </tr>\n    <tr>\n      <th>Zm00001d000008</th>\n      <td>0.0</td>\n      <td>0.0</td>\n      <td>0.0</td>\n      <td>0.0</td>\n      <td>0.0</td>\n      <td>0.0</td>\n      <td>0.0</td>\n      <td>0.0</td>\n      <td>0.0</td>\n      <td>0.0</td>\n      <td>...</td>\n      <td>0.0</td>\n      <td>0.0</td>\n      <td>0.0</td>\n      <td>0.0</td>\n      <td>0.0</td>\n      <td>0.0</td>\n      <td>0.0</td>\n      <td>0.0</td>\n      <td>0.0</td>\n      <td>0.0</td>\n    </tr>\n    <tr>\n      <th>...</th>\n      <td>...</td>\n      <td>...</td>\n      <td>...</td>\n      <td>...</td>\n      <td>...</td>\n      <td>...</td>\n      <td>...</td>\n      <td>...</td>\n      <td>...</td>\n      <td>...</td>\n      <td>...</td>\n      <td>...</td>\n      <td>...</td>\n      <td>...</td>\n      <td>...</td>\n      <td>...</td>\n      <td>...</td>\n      <td>...</td>\n      <td>...</td>\n      <td>...</td>\n      <td>...</td>\n    </tr>\n    <tr>\n      <th>Zm00001d054105</th>\n      <td>0.0</td>\n      <td>0.0</td>\n      <td>0.0</td>\n      <td>0.0</td>\n      <td>0.0</td>\n      <td>0.0</td>\n      <td>0.0</td>\n      <td>0.0</td>\n      <td>0.0</td>\n      <td>0.0</td>\n      <td>...</td>\n      <td>0.0</td>\n      <td>0.0</td>\n      <td>0.0</td>\n      <td>0.0</td>\n      <td>0.0</td>\n      <td>0.0</td>\n      <td>0.0</td>\n      <td>0.0</td>\n      <td>0.0</td>\n      <td>0.0</td>\n    </tr>\n    <tr>\n      <th>Zm00001d054106</th>\n      <td>0.0</td>\n      <td>0.0</td>\n      <td>0.0</td>\n      <td>0.0</td>\n      <td>0.0</td>\n      <td>0.0</td>\n      <td>0.0</td>\n      <td>0.0</td>\n      <td>0.0</td>\n      <td>0.0</td>\n      <td>...</td>\n      <td>0.0</td>\n      <td>0.0</td>\n      <td>0.0</td>\n      <td>0.0</td>\n      <td>0.0</td>\n      <td>0.0</td>\n      <td>0.0</td>\n      <td>0.0</td>\n      <td>0.0</td>\n      <td>0.0</td>\n    </tr>\n    <tr>\n      <th>Zm00001d054107</th>\n      <td>0.0</td>\n      <td>0.0</td>\n      <td>0.0</td>\n      <td>0.0</td>\n      <td>0.0</td>\n      <td>0.0</td>\n      <td>0.0</td>\n      <td>0.0</td>\n      <td>0.0</td>\n      <td>0.0</td>\n      <td>...</td>\n      <td>0.0</td>\n      <td>0.0</td>\n      <td>0.0</td>\n      <td>0.0</td>\n      <td>0.0</td>\n      <td>0.0</td>\n      <td>0.0</td>\n      <td>0.0</td>\n      <td>0.0</td>\n      <td>0.0</td>\n    </tr>\n    <tr>\n      <th>Zm00001d054110</th>\n      <td>0.0</td>\n      <td>0.0</td>\n      <td>0.0</td>\n      <td>0.0</td>\n      <td>0.0</td>\n      <td>0.0</td>\n      <td>0.0</td>\n      <td>0.0</td>\n      <td>0.0</td>\n      <td>0.0</td>\n      <td>...</td>\n      <td>0.0</td>\n      <td>0.0</td>\n      <td>0.0</td>\n      <td>0.0</td>\n      <td>0.0</td>\n      <td>0.0</td>\n      <td>0.0</td>\n      <td>0.0</td>\n      <td>0.0</td>\n      <td>0.0</td>\n    </tr>\n    <tr>\n      <th>Zm00001d054111</th>\n      <td>0.0</td>\n      <td>0.0</td>\n      <td>0.0</td>\n      <td>0.0</td>\n      <td>0.0</td>\n      <td>0.0</td>\n      <td>0.0</td>\n      <td>0.0</td>\n      <td>0.0</td>\n      <td>0.0</td>\n      <td>...</td>\n      <td>0.0</td>\n      <td>0.0</td>\n      <td>0.0</td>\n      <td>0.0</td>\n      <td>0.0</td>\n      <td>0.0</td>\n      <td>0.0</td>\n      <td>0.0</td>\n      <td>0.0</td>\n      <td>0.0</td>\n    </tr>\n  </tbody>\n</table>\n<p>30395 rows × 8374 columns</p>\n</div>",
      "text/plain": "GO_term         GO:0000002  GO:0000003  GO:0000009  GO:0000012  GO:0000014  \\\nNetworkIDs                                                                   \nZm00001d000001         0.0         0.0         0.0         0.0         0.0   \nZm00001d000002         0.0         0.0         0.0         0.0         0.0   \nZm00001d000004         0.0         0.0         0.0         0.0         0.0   \nZm00001d000006         0.0         0.0         0.0         0.0         0.0   \nZm00001d000008         0.0         0.0         0.0         0.0         0.0   \n...                    ...         ...         ...         ...         ...   \nZm00001d054105         0.0         0.0         0.0         0.0         0.0   \nZm00001d054106         0.0         0.0         0.0         0.0         0.0   \nZm00001d054107         0.0         0.0         0.0         0.0         0.0   \nZm00001d054110         0.0         0.0         0.0         0.0         0.0   \nZm00001d054111         0.0         0.0         0.0         0.0         0.0   \n\nGO_term         GO:0000015  GO:0000018  GO:0000019  GO:0000023  GO:0000025  \\\nNetworkIDs                                                                   \nZm00001d000001         0.0         0.0         0.0         0.0         0.0   \nZm00001d000002         0.0         0.0         0.0         0.0         0.0   \nZm00001d000004         0.0         0.0         0.0         0.0         0.0   \nZm00001d000006         0.0         0.0         0.0         0.0         0.0   \nZm00001d000008         0.0         0.0         0.0         0.0         0.0   \n...                    ...         ...         ...         ...         ...   \nZm00001d054105         0.0         0.0         0.0         0.0         0.0   \nZm00001d054106         0.0         0.0         0.0         0.0         0.0   \nZm00001d054107         0.0         0.0         0.0         0.0         0.0   \nZm00001d054110         0.0         0.0         0.0         0.0         0.0   \nZm00001d054111         0.0         0.0         0.0         0.0         0.0   \n\nGO_term         ...  GO:2001239  GO:2001240  GO:2001242  GO:2001243  \\\nNetworkIDs      ...                                                   \nZm00001d000001  ...         0.0         0.0         0.0         0.0   \nZm00001d000002  ...         0.0         0.0         0.0         0.0   \nZm00001d000004  ...         0.0         0.0         0.0         0.0   \nZm00001d000006  ...         0.0         0.0         0.0         0.0   \nZm00001d000008  ...         0.0         0.0         0.0         0.0   \n...             ...         ...         ...         ...         ...   \nZm00001d054105  ...         0.0         0.0         0.0         0.0   \nZm00001d054106  ...         0.0         0.0         0.0         0.0   \nZm00001d054107  ...         0.0         0.0         0.0         0.0   \nZm00001d054110  ...         0.0         0.0         0.0         0.0   \nZm00001d054111  ...         0.0         0.0         0.0         0.0   \n\nGO_term         GO:2001251  GO:2001252  GO:2001253  GO:2001289  GO:2001293  \\\nNetworkIDs                                                                   \nZm00001d000001         0.0         0.0         0.0         0.0         0.0   \nZm00001d000002         0.0         0.0         0.0         0.0         0.0   \nZm00001d000004         0.0         0.0         0.0         0.0         0.0   \nZm00001d000006         0.0         0.0         0.0         0.0         0.0   \nZm00001d000008         0.0         0.0         0.0         0.0         0.0   \n...                    ...         ...         ...         ...         ...   \nZm00001d054105         0.0         0.0         0.0         0.0         0.0   \nZm00001d054106         0.0         0.0         0.0         0.0         0.0   \nZm00001d054107         0.0         0.0         0.0         0.0         0.0   \nZm00001d054110         0.0         0.0         0.0         0.0         0.0   \nZm00001d054111         0.0         0.0         0.0         0.0         0.0   \n\nGO_term         GO:2001294  \nNetworkIDs                  \nZm00001d000001         0.0  \nZm00001d000002         0.0  \nZm00001d000004         0.0  \nZm00001d000006         0.0  \nZm00001d000008         0.0  \n...                    ...  \nZm00001d054105         0.0  \nZm00001d054106         0.0  \nZm00001d054107         0.0  \nZm00001d054110         0.0  \nZm00001d054111         0.0  \n\n[30395 rows x 8374 columns]"
     },
     "execution_count": 3,
     "metadata": {},
     "output_type": "execute_result"
    }
   ],
   "source": [
    "test_go"
   ]
  },
  {
   "cell_type": "code",
   "execution_count": null,
   "metadata": {},
   "outputs": [],
   "source": []
  }
 ],
 "metadata": {
  "interpreter": {
   "hash": "dec2c7ae47d23e38035799b52f3468b9d0b9f7505e9fd66be8672e19341dab7d"
  },
  "kernelspec": {
   "display_name": "Python 3.9.1 64-bit ('py39': conda)",
   "name": "python3"
  },
  "language_info": {
   "codemirror_mode": {
    "name": "ipython",
    "version": 3
   },
   "file_extension": ".py",
   "mimetype": "text/x-python",
   "name": "python",
   "nbconvert_exporter": "python",
   "pygments_lexer": "ipython3",
   "version": "3.9.1"
  },
  "orig_nbformat": 2
 },
 "nbformat": 4,
 "nbformat_minor": 2
}